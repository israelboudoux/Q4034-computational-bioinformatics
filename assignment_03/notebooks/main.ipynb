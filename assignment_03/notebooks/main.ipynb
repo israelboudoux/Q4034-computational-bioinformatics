{
 "cells": [
  {
   "cell_type": "code",
   "execution_count": 1,
   "metadata": {},
   "outputs": [],
   "source": [
    "import sys\n",
    "sys.path.append(\"..\")\n",
    "\n",
    "from src import bioinfo_tools as bt\n",
    "from src import bioinfo_sequence_functions as bsf\n",
    "\n",
    "import pandas as pd"
   ]
  },
  {
   "cell_type": "code",
   "execution_count": 2,
   "metadata": {},
   "outputs": [],
   "source": [
    "pdf_proteins = pd.read_csv(\"../data/proteins_86693_757732.csv\")\n",
    "dict_sequence = bt.read_fasta_2dictionary(\"../data/sequence.fasta\")"
   ]
  },
  {
   "cell_type": "markdown",
   "metadata": {},
   "source": [
    "# B. Get Statistics\n",
    "The genomic sequence should be read only in the positive sense, i.e. from 5’ to 3’. Read the\n",
    "genomic sequence and obtain the following statistics:\n",
    "1. Length of the sequence.\n",
    "2. Frequency (in %) of A, C, G, T.\n",
    "3. GC content.\n",
    "4. Number of Start (AUG) codons found.\n",
    "5. Number of Stop Codons (UAA, UAG, UGA).\n",
    "6. Most and less frequent codon."
   ]
  },
  {
   "cell_type": "code",
   "execution_count": 3,
   "metadata": {},
   "outputs": [],
   "source": [
    "sequence = dict_sequence[\"NC_045512.2\"]"
   ]
  },
  {
   "cell_type": "code",
   "execution_count": 232,
   "metadata": {},
   "outputs": [],
   "source": [
    "def number_of_proteins_by_frame(seq):\n",
    "  lt_rf = bsf.reading_frames(seq)\n",
    "  lt_prots = list(map(bsf.all_proteins_rf, lt_rf))\n",
    "\n",
    "  print(\"-> Number of possible proteins:\")\n",
    "  print(\"  > direct sequence\")\n",
    "  j = 0\n",
    "  for i in range(0, len(lt_prots)):\n",
    "    print(f\"    * In frame {j}: {len(lt_prots[i])}\")\n",
    "    j+=1\n",
    "    if i == 2: \n",
    "      j=0\n",
    "      print(\"  > reverse sequence\")"
   ]
  },
  {
   "cell_type": "code",
   "execution_count": 233,
   "metadata": {},
   "outputs": [
    {
     "name": "stdout",
     "output_type": "stream",
     "text": [
      "-> Number of possible proteins:\n",
      "  > direct sequence\n",
      "    * In frame 0: 116\n",
      "    * In frame 1: 311\n",
      "    * In frame 2: 297\n",
      "  > reverse sequence\n",
      "    * In frame 0: 176\n",
      "    * In frame 1: 136\n",
      "    * In frame 2: 172\n"
     ]
    }
   ],
   "source": [
    "number_of_proteins_by_frame(sequence)"
   ]
  },
  {
   "cell_type": "code",
   "execution_count": 114,
   "metadata": {},
   "outputs": [
    {
     "name": "stdout",
     "output_type": "stream",
     "text": [
      "* In frame 0: \n",
      "  - Start: 117 | Stop: 176\n",
      "* In frame 1: \n",
      "  - Start: 311 | Stop: 136\n",
      "* In frame 2: \n",
      "  - Start: 297 | Stop: 172\n"
     ]
    }
   ],
   "source": [
    "for i in range(0,3):\n",
    "    l_start = len(bsf.start_codon_position(sequence, i))\n",
    "    l_end = len(bsf.start_codon_position(bsf.reverse_complement(sequence), i))\n",
    "    print(f\"* In frame {i}: \\n  - Start: {l_start} | Stop: {l_end}\")"
   ]
  },
  {
   "cell_type": "code",
   "execution_count": 7,
   "metadata": {},
   "outputs": [
    {
     "data": {
      "text/plain": [
       "[176, 136, 172]"
      ]
     },
     "execution_count": 7,
     "metadata": {},
     "output_type": "execute_result"
    }
   ],
   "source": [
    "[len(bsf.start_codon_position(bsf.reverse_complement(sequence), i)) for i in range(0,3)]"
   ]
  },
  {
   "cell_type": "code",
   "execution_count": 235,
   "metadata": {},
   "outputs": [],
   "source": [
    "freq = bsf.frequency(sequence, 1, 1)\n",
    "total = sum(list(freq.values()))"
   ]
  },
  {
   "cell_type": "code",
   "execution_count": 48,
   "metadata": {},
   "outputs": [
    {
     "data": {
      "text/plain": [
       "[('TTT', 383), ('GCG', 22)]"
      ]
     },
     "execution_count": 48,
     "metadata": {},
     "output_type": "execute_result"
    }
   ],
   "source": [
    "dict_freq_codons = bsf.frequency(sequence, 3, 3)\n",
    "lt = list(dict_freq_codons.values())\n",
    "lt_max = max(lt)\n",
    "lt_min = min(lt)\n",
    "\n",
    "[(i,j) for i, j in  dict_freq_codons.items() if j == lt_max or j == lt_min]"
   ]
  },
  {
   "cell_type": "markdown",
   "metadata": {},
   "source": []
  },
  {
   "cell_type": "markdown",
   "metadata": {},
   "source": [
    "# C. Get ORFs\n",
    "Identify all potential ORFs. Using the complete genome sequence as input, locate all the\n",
    "potential ORFs in the positive sense.\n",
    "- An ORF is defined as the region that starts with the start codon (AUG) and ends\n",
    "with the stop codon (UAA, UAG, UGA).\n",
    "- For a given region, if alternative start codons are found, select the longest ORF.\n",
    "- Select all ORFs with a minimum length of 120 nucleotides (40 amino acids).\n",
    "\n",
    "In this step, you should output the following information:\n",
    "\n",
    "7. A file with all the protein sequences named all_potential_proteins.txt, with a\n",
    "sequence per line.\n",
    "8. A file with the genomic coordinates of all the ORFs, named orf_coordinates.txt. </br>\n",
    "The genomic coordinates correspond the start and end position in the genome in the\n",
    "format:  </br>\n",
    "```\n",
    "Start1, End1, ORF1\n",
    "Start2, End2, ORF2\n",
    "…..\n",
    "StartN, EndN, ORFN\n"
   ]
  },
  {
   "cell_type": "code",
   "execution_count": 27,
   "metadata": {},
   "outputs": [
    {
     "data": {
      "text/plain": [
       "<module 'src.bioinfo_sequence_functions' from '../src/bioinfo_sequence_functions.py'>"
      ]
     },
     "execution_count": 27,
     "metadata": {},
     "output_type": "execute_result"
    }
   ],
   "source": [
    "import importlib\n",
    "importlib.reload(bsf)"
   ]
  },
  {
   "cell_type": "markdown",
   "metadata": {},
   "source": [
    "## Roots way"
   ]
  },
  {
   "cell_type": "code",
   "execution_count": 54,
   "metadata": {},
   "outputs": [],
   "source": [
    "lt_proteins = bsf.all_orfs_ord(sequence, 40)"
   ]
  },
  {
   "cell_type": "code",
   "execution_count": 55,
   "metadata": {},
   "outputs": [],
   "source": [
    "# filename = \"all_potential_proteins\"\n",
    "# with open(f\"../data/{filename}.txt\", \"w\") as f:\n",
    "#     f.write(\"\\n\".join(lt_proteins))   "
   ]
  },
  {
   "cell_type": "code",
   "execution_count": 56,
   "metadata": {},
   "outputs": [],
   "source": [
    "lt_reading_frames = bsf.reading_frames(sequence)\n",
    "\n",
    "lt_proteins_and_positions = list(map(lambda x: bsf.all_proteins_rf(x, True), lt_reading_frames))\n",
    "\n",
    "lt_proteins_and_positions = [\n",
    "    list(\n",
    "        zip(\n",
    "            lt_proteins_and_positions[i][0], \n",
    "            lt_proteins_and_positions[i][1]\n",
    "        )\n",
    "    ) \n",
    "    for i in range(0, len(lt_reading_frames))\n",
    "]\n"
   ]
  },
  {
   "cell_type": "code",
   "execution_count": 57,
   "metadata": {},
   "outputs": [],
   "source": [
    "num_aminoacids = 40\n",
    "f = lambda x: (\n",
    "    sorted(\n",
    "        list(filter(lambda y: len(y[0]) >= num_aminoacids, x)), \n",
    "            key=lambda z: len(z[0]),\n",
    "            reverse=True\n",
    "    )\n",
    ")\n",
    "\n",
    "lt_positions_start_end = list(map(f, lt_proteins_and_positions))"
   ]
  },
  {
   "cell_type": "code",
   "execution_count": 77,
   "metadata": {},
   "outputs": [],
   "source": [
    "lt_temp = sorted(lt_positions_start_end[0], key=lambda x: x[1])\n",
    "bt.get_orf_names(list(zip(*lt_temp))[1])"
   ]
  },
  {
   "cell_type": "code",
   "execution_count": 423,
   "metadata": {},
   "outputs": [],
   "source": [
    "# def organize_coordinates(x):\n",
    "#     x_lag1 = x.copy()\n",
    "#     x_lag1.pop(0)\n",
    "#     x_lag1.append((\"\", [0,0]))\n",
    "\n",
    "#     switch = False\n",
    "#     k = 0\n",
    "#     res = []\n",
    "#     for i in range(0, len(x)):\n",
    "#         if x[i][1][1] == x_lag1[i][1][1]:\n",
    "#             if not switch:\n",
    "#                 switch = True\n",
    "#                 j = 0\n",
    "#             else:\n",
    "#                 j += 1\n",
    "#             row = f\"{x[i][1][0]*3}, {x[i][1][1]*3+4}, ORF{k}.{j}\"\n",
    "#         else:\n",
    "#             switch = False\n",
    "#             k += 1\n",
    "#             row = f\"{x[i][1][0]*3}, {x[i][1][1]*3+4}, ORF{k}\"\n",
    "#         res.append(row)\n",
    "#     return res"
   ]
  },
  {
   "cell_type": "code",
   "execution_count": 424,
   "metadata": {},
   "outputs": [],
   "source": [
    "# f = lambda x: [f\"{x[i][1][0]*3}, {x[i][1][1]*3+4}, ORF{i}\" for i in range(0, len(x))]\n",
    "# lt_positions_to_txt = list(map(organize_coordinates, lt_positions_start_end))"
   ]
  },
  {
   "cell_type": "code",
   "execution_count": 81,
   "metadata": {},
   "outputs": [],
   "source": [
    "# lt_positions_to_txt[1]"
   ]
  },
  {
   "cell_type": "code",
   "execution_count": 331,
   "metadata": {},
   "outputs": [],
   "source": [
    "j = 0\n",
    "for i in range(0, len(lt_positions_to_txt)):\n",
    "    if i <= 2:\n",
    "        suffix = f\"direct_frame_0{i}\"\n",
    "    else:\n",
    "        suffix = f\"reverse_frame_0{j}\"\n",
    "        j += 1\n",
    "    filename = f\"orf_coordinates_{suffix}\"\n",
    "    with open(f\"../data/{filename}.txt\", \"w\") as f:\n",
    "        f.write(\"\\n\".join(lt_positions_to_txt[i]))"
   ]
  },
  {
   "cell_type": "markdown",
   "metadata": {},
   "source": [
    "## Pandas way"
   ]
  },
  {
   "cell_type": "code",
   "execution_count": 196,
   "metadata": {},
   "outputs": [],
   "source": [
    "import pandas as pd"
   ]
  },
  {
   "cell_type": "code",
   "execution_count": 346,
   "metadata": {},
   "outputs": [
    {
     "data": {
      "text/plain": [
       "<module 'src.bioinfo_sequence_functions' from '../src/bioinfo_sequence_functions.py'>"
      ]
     },
     "execution_count": 346,
     "metadata": {},
     "output_type": "execute_result"
    }
   ],
   "source": [
    "import importlib\n",
    "importlib.reload(bsf)"
   ]
  },
  {
   "cell_type": "code",
   "execution_count": 459,
   "metadata": {},
   "outputs": [],
   "source": [
    "''' \n",
    "=====================================//=====================================\n",
    "STEP 01 - Creating main dataset\n",
    "=====================================//=====================================\n",
    "In this step, we are creating a dataframe that consolidates all the information \n",
    "regarding the ORFs and their respective positions, for each of the possible DNA \n",
    "sequences (3 direct frames and 3 reverse frames).\n",
    "------------------------------------//--------------------------------------\n",
    "'''\n",
    "#  Getting 6 sequences, one for each direct and reverse reading frame:\n",
    "lt_reading_frames = bsf.reading_frames(sequence)\n",
    "# Putting those sequences into a Pandas DataFrame with \"reading_frame\" as index:\n",
    "pdf = pd.DataFrame(lt_reading_frames, columns=[\"seq__amino\"])\n",
    "pdf.index.names = [\"reading_frame\"]\n",
    "# Getting all ORFs associated with those 6 sequences with \"all_proteins_rf\" function;\n",
    "# Creating two new columns with the outputs of \"all_proteins_rf\" (orfs and positions);\n",
    "# Getting only the ORFs that have the longest length when ORF overlap occurs (max_len):\n",
    "pdf[\"seq__orf\"], pdf[\"orf__coord\"] = zip(*pdf.apply(lambda x: bsf.all_proteins_rf(x[\"seq__amino\"], True, max_len=False), axis=1))\n",
    "# Exploding the proteins and positions calculated above into rows:\n",
    "pdf_exp = pdf.explode([\"seq__orf\", \"orf__coord\"])\n",
    "pdf_exp[\"orf__coord_start\"], pdf_exp[\"orf__coord_end\"] = zip(*pdf_exp[\"orf__coord\"])\n",
    "# Creating a column with the length of each ORF:\n",
    "pdf_exp[\"seq__orf_len\"] = pdf_exp[\"seq__orf\"].str.len()\n",
    "# Creating two new columns for dna coordinates calculated from orf/aminoacid coordinates:\n",
    "for n in [0,1,2]:\n",
    "    pdf_exp.loc[n, \"dna__coord_start\"] = pdf_exp.loc[n, \"orf__coord_start\"]*3 + n\n",
    "    pdf_exp.loc[n, \"dna__coord_end\"] = pdf_exp.loc[n, \"orf__coord_end\"]*3 + 3 + n\n",
    "#droping reading frames of the reverse sequence\n",
    "pdf_exp = pdf_exp.dropna()\n",
    "# Getting the DNA sub-sequences associated with start and end of each ORF:\n",
    "pdf_exp[\"seq__dna\"] = pdf_exp.apply(lambda x: sequence[int(x[\"dna__coord_start\"]):int(x[\"dna__coord_end\"])], axis=1)"
   ]
  },
  {
   "cell_type": "code",
   "execution_count": 460,
   "metadata": {},
   "outputs": [],
   "source": [
    "'''\n",
    "=====================================//=====================================\n",
    "STEP 02 - Applying filters\n",
    "=====================================//=====================================\n",
    "In this step, we are applying all the filters stipulated by the proposed \n",
    "exercise, namely:\n",
    "(1) sequences must contain >= 40 amino acids;\n",
    "(2) If an ORF is contained within another, select only the largest of them;\n",
    "(3) order the data by ORF length.\n",
    "------------------------------------//--------------------------------------\n",
    "'''\n",
    "# Creating a new dataframe \"prf_exp_temp\" to apply filters and other particular manipulations:\n",
    "pdf_exp_temp = pdf_exp.copy()\n",
    "# Filtering only ORFs with at least 40 aminoacis in its sequence:\n",
    "pdf_exp_temp = pdf_exp_temp[pdf_exp_temp[\"seq__orf\"].str.len() >= 40]\n",
    "# Ordering dataframe by ORF coordinates to apply the function that will create \"names\"/\"labes\" for those ORFs:\n",
    "names_by_frame = True\n",
    "if names_by_frame:\n",
    "    pdf_exp_temp = pdf_exp_temp.reset_index().sort_values([\"reading_frame\",\"orf__coord_start\",\"orf__coord_end\"], ascending=[True,True,False]).set_index(\"reading_frame\")\n",
    "    lt_orf_names = pdf_exp_temp.groupby(\"reading_frame\").apply(lambda x: bt.get_orf_names(x[[\"dna__coord_start\", \"dna__coord_end\"]].values))\n",
    "    lt_orf_names = [[f\"rf0{j}_\" + i for i in lt_orf_names[j]] for j in range(0, len(lt_orf_names))]\n",
    "    pdf_exp_temp[\"orf__name\"] = sum(lt_orf_names, [])\n",
    "else:\n",
    "    pdf_exp_temp = pdf_exp_temp.sort_values(\"orf__coord\")\n",
    "    pdf_exp_temp[\"orf__name\"] = bt.get_orf_names(pdf_exp_temp[[\"dna__coord_start\", \"dna__coord_end\"]].values)\n",
    "# Sorting dataframe by orf length:\n",
    "pdf_exp_temp = pdf_exp_temp.sort_values(\"seq__orf_len\", ascending=False)\n",
    "# Just sorting columns alphabeticaly:\n",
    "pdf_exp_temp = pdf_exp_temp[sorted(pdf_exp_temp.columns)]"
   ]
  },
  {
   "cell_type": "markdown",
   "metadata": {},
   "source": [
    "## 7.\n",
    "A file with all the protein sequences named all_potential_proteins.txt, with a\n",
    "sequence per line."
   ]
  },
  {
   "cell_type": "code",
   "execution_count": 494,
   "metadata": {},
   "outputs": [],
   "source": [
    "(\n",
    "    pdf_exp_temp\n",
    "        .sort_values(\"seq__orf_len\", ascending=False)[\"seq__dna\"]\n",
    "        .to_csv(\"../data/all_potential_proteins.txt\", header=False, index=False)\n",
    ")"
   ]
  },
  {
   "cell_type": "markdown",
   "metadata": {},
   "source": [
    "## 8. \n",
    "A file with the genomic coordinates of all the ORFs, named orf_coordinates.txt. </br>\n",
    "The genomic coordinates correspond the start and end position in the genome in the\n",
    "format:  </br>\n",
    "```\n",
    "Start1, End1, ORF1\n",
    "Start2, End2, ORF2\n",
    "…..\n",
    "StartN, EndN, ORFN\n"
   ]
  },
  {
   "cell_type": "code",
   "execution_count": 495,
   "metadata": {},
   "outputs": [
    {
     "name": "stdout",
     "output_type": "stream",
     "text": [
      "34\n"
     ]
    }
   ],
   "source": [
    "import re\n",
    "# pattern = \"ORF\\d+\\.[a-z]|ORF\\d+\"\n",
    "# pattern = \"ORF\\d+\"\n",
    "pattern = \"rf0\\d{1}_ORF\\d+\"\n",
    "l = pd.Series([re.findall(pattern, orf)[0] for orf in pdf_exp_temp[\"orf__name\"] if re.findall(pattern, orf)]).unique()\n",
    "print(len(pdf_exp_temp[pdf_exp_temp[\"orf__name\"].isin(l)].sort_values(\"orf__coord\")))\n",
    "pdf_exp_temp_ex08 = pdf_exp_temp[pdf_exp_temp[\"orf__name\"].isin(l)].sort_values(\"orf__coord\")"
   ]
  },
  {
   "cell_type": "code",
   "execution_count": 496,
   "metadata": {},
   "outputs": [],
   "source": [
    "pdf_exp_temp_ex08 = pdf_exp_temp_ex08.sort_values(\"seq__orf_len\", ascending=False)"
   ]
  },
  {
   "cell_type": "code",
   "execution_count": 497,
   "metadata": {},
   "outputs": [],
   "source": [
    "(\n",
    "    pdf_exp_temp_ex08[[\"dna__coord_start\", \"dna__coord_end\", \"seq__dna\"]]\n",
    "        .to_csv(\n",
    "            \"../data/orf_coordinates.txt\", \n",
    "            float_format=\"%.0f\", \n",
    "            sep=\",\", \n",
    "            index=False, \n",
    "            header=False\n",
    "        )\n",
    ")"
   ]
  },
  {
   "cell_type": "code",
   "execution_count": null,
   "metadata": {},
   "outputs": [],
   "source": [
    "import re\n",
    "# pattern = \"ORF\\d+\\.[a-z]|ORF\\d+\"\n",
    "# pattern = \"ORF\\d+\"\n",
    "pattern = \"rf0\\d{1}_ORF\\d+\"\n",
    "l = pd.Series([re.findall(pattern, orf)[0] for orf in pdf_exp_temp[\"orf__name\"] if re.findall(pattern, orf)]).unique()\n",
    "print(len(pdf_exp_temp[pdf_exp_temp[\"orf__name\"].isin(l)].sort_values(\"orf__coord\")))\n",
    "pdf_exp_temp_ex08 = pdf_exp_temp[pdf_exp_temp[\"orf__name\"].isin(l)].sort_values(\"orf__coord\")\n",
    "pdf_exp_temp_ex08 = pdf_exp_temp_ex08.sort_values(\"seq__orf_len\", ascending=False)\n",
    "(\n",
    "    pdf_exp_temp_ex08[[\"dna__coord_start\", \"dna__coord_end\", \"seq__dna\"]]\n",
    "        .to_csv(\n",
    "            \"../data/orf_coordinates.txt\", \n",
    "            float_format=\"%.0f\", \n",
    "            sep=\",\", \n",
    "            index=False, \n",
    "            header=False\n",
    "        )\n",
    ")"
   ]
  },
  {
   "cell_type": "markdown",
   "metadata": {},
   "source": [
    "## Temp"
   ]
  },
  {
   "cell_type": "code",
   "execution_count": 178,
   "metadata": {},
   "outputs": [],
   "source": [
    "def all_proteins_rf(aa_seq, return_positions=False):\n",
    "    \"\"\"Computes all posible proteins in an aminoacid sequence.\"\"\"\n",
    "    aa_seq = aa_seq.upper()\n",
    "    current_prot = []\n",
    "    proteins = []\n",
    "    positions = []\n",
    "    current_pos = []\n",
    "    for aa in range(0, len(aa_seq)):\n",
    "        if aa_seq[aa] == \"_\":\n",
    "            if current_prot:\n",
    "                current_pos.append(aa)\n",
    "                for i in range(0, len(current_prot)):\n",
    "                    proteins.append(current_prot[i])\n",
    "                    positions.append([current_pos[i], current_pos[-1]])\n",
    "                current_prot = []\n",
    "                current_pos = []\n",
    "        else:\n",
    "            if aa_seq[aa] == \"M\":\n",
    "                current_prot.append(\"\")\n",
    "                current_pos.append(aa)\n",
    "            for i in range(len(current_prot)):\n",
    "                current_prot[i] += aa_seq[aa]\n",
    "                # current_pos.append(aa)\n",
    "    # proteins = list(filter(lambda x: len(x)>=2, proteins))\n",
    "    # positions = list(filter(lambda x: len(x)>=2, positions))\n",
    "    if return_positions:\n",
    "        return proteins, positions\n",
    "    else: \n",
    "        return proteins"
   ]
  },
  {
   "cell_type": "code",
   "execution_count": 182,
   "metadata": {},
   "outputs": [
    {
     "data": {
      "text/plain": [
       "116"
      ]
     },
     "execution_count": 182,
     "metadata": {},
     "output_type": "execute_result"
    }
   ],
   "source": [
    "len(all_proteins_rf(lt_reading_frames[0], return_positions=False))"
   ]
  },
  {
   "cell_type": "code",
   "execution_count": 217,
   "metadata": {},
   "outputs": [],
   "source": [
    "def finding_ORFs(dna_seq, pos_ini = 0, min_size=120):\n",
    "    actual_orf = []\n",
    "    orfs = {}\n",
    "    new_orfs={}\n",
    "    start_protein=[]\n",
    "    for i in range(pos_ini,(len(dna_seq)-3 + 1),3):\n",
    "        codon = dna_seq[i:i+3]\n",
    "        if codon==\"UAA\" or codon==\"UAG\" or codon==\"UGA\":\n",
    "            if actual_orf:\n",
    "                sorted(actual_orf, key=lambda x: len(x), reverse=True)\n",
    "                start_protein_sorted=sorted(start_protein)\n",
    "                end_protein=(i+3)\n",
    "                new_orfs[actual_orf[0]]=[start_protein_sorted[0],end_protein]\n",
    "                for key in new_orfs:\n",
    "                    if len(key) >= min_size:\n",
    "                        orfs[key] = new_orfs[key]\n",
    "                actual_orf = [] \n",
    "                start_protein=[]\n",
    "        else:\n",
    "            if codon == \"AUG\":\n",
    "                start_protein.append(i+1)\n",
    "                actual_orf.append(\"\")\n",
    "            for i in range(len(actual_orf)):\n",
    "                actual_orf[i] += codon\n",
    "    return orfs"
   ]
  },
  {
   "cell_type": "code",
   "execution_count": 218,
   "metadata": {},
   "outputs": [],
   "source": [
    "res = []\n",
    "for i in range(0, 3):\n",
    "    res.append(finding_ORFs(sequence.replace(\"T\",\"U\"), pos_ini = i, min_size=120))"
   ]
  },
  {
   "cell_type": "code",
   "execution_count": 219,
   "metadata": {},
   "outputs": [
    {
     "data": {
      "text/plain": [
       "6"
      ]
     },
     "execution_count": 219,
     "metadata": {},
     "output_type": "execute_result"
    }
   ],
   "source": [
    "len(res[0])"
   ]
  },
  {
   "cell_type": "code",
   "execution_count": 220,
   "metadata": {},
   "outputs": [
    {
     "data": {
      "text/plain": [
       "8"
      ]
     },
     "execution_count": 220,
     "metadata": {},
     "output_type": "execute_result"
    }
   ],
   "source": [
    "len(res[1])"
   ]
  },
  {
   "cell_type": "code",
   "execution_count": 221,
   "metadata": {},
   "outputs": [
    {
     "data": {
      "text/plain": [
       "1"
      ]
     },
     "execution_count": 221,
     "metadata": {},
     "output_type": "execute_result"
    }
   ],
   "source": [
    "len([2])"
   ]
  },
  {
   "cell_type": "markdown",
   "metadata": {},
   "source": [
    "# D. Overlap with annotation\n",
    "Compare the results you obtained with those from the annotation in file\n",
    "proteins_86693_757732.csv (see Table 1). This file contains the genomic coordinates of\n",
    "the ORFs that code for the different proteins. For instance, the ORFs that code for the\n",
    "Spike Protein (S) is (start=)21563 (end=)25384. This represents the start and end of the\n",
    "genomic coordinates of this ORF. Check the overlap of your ORFs with those in this\n",
    "table.\n",
    "\n",
    "The overlap between sequences A and B can be calculated as:\n",
    "$$overlap(A,B) = \\frac{|A \\cap B|}{min(A,B)}$$\n",
    "\n",
    "where the intersection region between A and B is defined by\n",
    "the length of the genomic region in common between A and B. For this exercise, we will\n",
    "define a slightly different version of the overlap, where A is one of the annotated ORF in\n",
    "Table 1 and B is an ORF from your list. Thus, the overlap is defined taking in account the\n",
    "length of the ORF in Table 1.\n",
    "$$overlap(A,B) = \\frac{|A \\cap B|}{|A|}$$"
   ]
  },
  {
   "cell_type": "code",
   "execution_count": 498,
   "metadata": {},
   "outputs": [],
   "source": [
    "pdf_proteins[\"seq__dna\"] = pdf_proteins.apply(lambda x: sequence[int(x[\"Start\"])-1:int(x[\"Stop\"])], axis=1)"
   ]
  },
  {
   "cell_type": "code",
   "execution_count": 499,
   "metadata": {},
   "outputs": [],
   "source": [
    "pdf_proteins[\"dna__coord_start\"] = pdf_proteins[\"Start\"] - 1\n",
    "pdf_proteins[\"dna__coord_end\"] = pdf_proteins[\"Stop\"]"
   ]
  },
  {
   "cell_type": "code",
   "execution_count": null,
   "metadata": {},
   "outputs": [],
   "source": [
    "pdf_proteins[\"seq__dna\"] = pdf_proteins.apply(lambda x: sequence[int(x[\"Start\"])-1:int(x[\"Stop\"])], axis=1)\n",
    "pdf_proteins[\"dna__coord_start\"] = pdf_proteins[\"Start\"] - 1\n",
    "pdf_proteins[\"dna__coord_end\"] = pdf_proteins[\"Stop\"]\n",
    "pdf_temp = (\n",
    "    pdf_proteins[\n",
    "        [\"Locus\", \"dna__coord_start\", \"dna__coord_end\", \"seq__dna\"]\n",
    "        ]\n",
    "    .merge(\n",
    "        pdf_exp_temp[\n",
    "            [\"seq__dna\", \"dna__coord_start\", \"dna__coord_end\", \"orf__name\"]\n",
    "            ], \n",
    "        how=\"cross\"\n",
    "        )\n",
    "    )\n",
    "\n",
    "import difflib\n",
    "\n",
    "def get_overlap(s1, s2):\n",
    "    s = difflib.SequenceMatcher(None, s1, s2)\n",
    "    pos_a, pos_b, size = s.find_longest_match(0, len(s1), 0, len(s2)) \n",
    "    return s1[pos_a:pos_a+size]\n",
    "\n",
    "pdf_temp[\"overlap__seq\"] = pdf_temp.apply(lambda x: get_overlap(str(x[\"seq__dna_x\"]), str(x[\"seq__dna_y\"])), axis=1)\n",
    "\n",
    "pdf_temp[\"overlap__perc\"] = pdf_temp[\"overlap__seq\"].str.len()/pdf_temp[\"seq__dna_x\"].str.len()"
   ]
  },
  {
   "cell_type": "code",
   "execution_count": 500,
   "metadata": {},
   "outputs": [],
   "source": [
    "# df_joined = pdf_proteins.merge(pdf_exp_temp[[]], on=[\"dna__coord_start\", \"dna__coord_end\"], how=\"left\")"
   ]
  },
  {
   "cell_type": "code",
   "execution_count": 516,
   "metadata": {},
   "outputs": [],
   "source": [
    "pdf_temp = (\n",
    "    pdf_proteins[\n",
    "        [\"Locus\", \"dna__coord_start\", \"dna__coord_end\", \"seq__dna\"]\n",
    "        ]\n",
    "    .merge(\n",
    "        pdf_exp_temp[\n",
    "            [\"seq__dna\", \"dna__coord_start\", \"dna__coord_end\", \"orf__name\"]\n",
    "            ], \n",
    "        how=\"cross\"\n",
    "        )\n",
    "    )"
   ]
  },
  {
   "cell_type": "code",
   "execution_count": 517,
   "metadata": {},
   "outputs": [],
   "source": [
    "# (\n",
    "#     pdf_proteins[[\"Locus tag\", \"dna__coord_start\", \"dna__coord_end\", \"seq__dna\"]]\n",
    "#         .merge(\n",
    "#             pdf_exp_temp[[\"seq__dna\", \"dna__coord_start\", \"dna__coord_end\", \"orf__name\"]], \n",
    "#             on = [\"dna__coord_start\", \"dna__coord_end\"],\n",
    "#             how=\"left\")\n",
    "#             )"
   ]
  },
  {
   "cell_type": "code",
   "execution_count": 532,
   "metadata": {},
   "outputs": [],
   "source": [
    "# https://stackoverflow.com/questions/14128763/how-to-find-the-overlap-between-2-sequences-and-return-it\n",
    "# def longest_common_substring(S1, S2):\n",
    "#   M = [[0]*(1+len(S2)) for i in range(1+len(S1))]\n",
    "#   longest, x_longest = 0, 0\n",
    "#   for x in range(1,1+len(S1)):\n",
    "#     for y in range(1,1+len(S2)):\n",
    "#         if S1[x-1] == S2[y-1]:\n",
    "#             M[x][y] = M[x-1][y-1] + 1\n",
    "#             if M[x][y]>longest:\n",
    "#                 longest = M[x][y]\n",
    "#                 x_longest  = x\n",
    "#         else:\n",
    "#             M[x][y] = 0\n",
    "#   return S1[x_longest-longest: x_longest]\n",
    "\n",
    "import difflib\n",
    "\n",
    "def get_overlap(s1, s2):\n",
    "    s = difflib.SequenceMatcher(None, s1, s2)\n",
    "    pos_a, pos_b, size = s.find_longest_match(0, len(s1), 0, len(s2)) \n",
    "    return s1[pos_a:pos_a+size]"
   ]
  },
  {
   "cell_type": "code",
   "execution_count": 519,
   "metadata": {},
   "outputs": [],
   "source": [
    "pdf_temp[\"overlap__seq\"] = pdf_temp.apply(lambda x: get_overlap(str(x[\"seq__dna_x\"]), str(x[\"seq__dna_y\"])), axis=1)"
   ]
  },
  {
   "cell_type": "code",
   "execution_count": 520,
   "metadata": {},
   "outputs": [],
   "source": [
    "pdf_temp[\"overlap__perc\"] = pdf_temp[\"overlap__seq\"].str.len()/pdf_temp[\"seq__dna_x\"].str.len()"
   ]
  },
  {
   "cell_type": "markdown",
   "metadata": {},
   "source": [
    "## 9.\n",
    "For each of the ORFs in table 1 you should output the longest overlap obtained with\n",
    "an ORF in your list. Use the identifiers in the column “Locus” to identify the ORF, e.g.\n",
    "```\n",
    "ORF1ab 72%\n",
    "S      93%\n",
    ". . . \n",
    "```\n",
    "So, in the case above ORF1ab has an overlap of 72% with one of your ORFs, being 72\n",
    "the percentage corresponding to the longest overlap. Hint: Define a function that\n",
    "compares the overlap between two sequences as defined above and test for each\n",
    "ORF in Table 1 the overlap with each of the ORFs in your list."
   ]
  },
  {
   "cell_type": "code",
   "execution_count": null,
   "metadata": {},
   "outputs": [],
   "source": [
    "pdf_temp.sort_values([\"Locus\", \"overlap__perc\"], ascending=[True, False]).groupby(\"Locus\").head(1)[[\"Locus\",\"overlap__perc\"]]"
   ]
  },
  {
   "cell_type": "code",
   "execution_count": 531,
   "metadata": {},
   "outputs": [
    {
     "data": {
      "text/html": [
       "<div>\n",
       "<style scoped>\n",
       "    .dataframe tbody tr th:only-of-type {\n",
       "        vertical-align: middle;\n",
       "    }\n",
       "\n",
       "    .dataframe tbody tr th {\n",
       "        vertical-align: top;\n",
       "    }\n",
       "\n",
       "    .dataframe thead th {\n",
       "        text-align: right;\n",
       "    }\n",
       "</style>\n",
       "<table border=\"1\" class=\"dataframe\">\n",
       "  <thead>\n",
       "    <tr style=\"text-align: right;\">\n",
       "      <th></th>\n",
       "      <th>Locus</th>\n",
       "      <th>overlap__seq</th>\n",
       "      <th>orf__name</th>\n",
       "      <th>overlap__perc</th>\n",
       "    </tr>\n",
       "  </thead>\n",
       "  <tbody>\n",
       "    <tr>\n",
       "      <th>1151</th>\n",
       "      <td>E</td>\n",
       "      <td>ATGTACTCATTCGTTTCGGAAGAGACAGGTACGTTAATAGTTAATA...</td>\n",
       "      <td>rf00_ORF4</td>\n",
       "      <td>1.000000</td>\n",
       "    </tr>\n",
       "    <tr>\n",
       "      <th>1368</th>\n",
       "      <td>M</td>\n",
       "      <td>ATGGCAGATTCCAACGGTACTATTACCGTTGAAGAGCTTAAAAAGC...</td>\n",
       "      <td>rf02_ORF16</td>\n",
       "      <td>1.000000</td>\n",
       "    </tr>\n",
       "    <tr>\n",
       "      <th>2536</th>\n",
       "      <td>N</td>\n",
       "      <td>ATGTCTGATAATGGACCCCAAAATCAGCGAAATGCACCCCGCATTA...</td>\n",
       "      <td>rf01_ORF8</td>\n",
       "      <td>1.000000</td>\n",
       "    </tr>\n",
       "    <tr>\n",
       "      <th>2833</th>\n",
       "      <td>ORF10</td>\n",
       "      <td>TAACTTTA</td>\n",
       "      <td>rf01_ORF7</td>\n",
       "      <td>0.068376</td>\n",
       "    </tr>\n",
       "    <tr>\n",
       "      <th>239</th>\n",
       "      <td>ORF1ab</td>\n",
       "      <td>ATGGAGAGCCTTGTCCCTGGTTTCAACGAGAAAACACACGTCCAAC...</td>\n",
       "      <td>rf01_ORF1</td>\n",
       "      <td>1.000000</td>\n",
       "    </tr>\n",
       "    <tr>\n",
       "      <th>882</th>\n",
       "      <td>ORF3a</td>\n",
       "      <td>ATGGATTTGTTTATGAGAATCTTCACAATTGGAACTGTAACTTTGA...</td>\n",
       "      <td>rf00_ORF3</td>\n",
       "      <td>1.000000</td>\n",
       "    </tr>\n",
       "    <tr>\n",
       "      <th>1636</th>\n",
       "      <td>ORF6</td>\n",
       "      <td>ATGTTTCATCTCGTTGACTTTCAGGTTACTATAGCAGAGATATTAC...</td>\n",
       "      <td>rf00_ORF5</td>\n",
       "      <td>1.000000</td>\n",
       "    </tr>\n",
       "    <tr>\n",
       "      <th>1855</th>\n",
       "      <td>ORF7a</td>\n",
       "      <td>ATGAAAATTATTCTTTTCTTGGCACTGATAACACTCGCTACTTGTG...</td>\n",
       "      <td>rf00_ORF6</td>\n",
       "      <td>1.000000</td>\n",
       "    </tr>\n",
       "    <tr>\n",
       "      <th>2139</th>\n",
       "      <td>ORF7b</td>\n",
       "      <td>ATGATTGAACTTTCATTAATTGACTTCTATTTGTGCTTTTTAGCCT...</td>\n",
       "      <td>rf02_ORF17</td>\n",
       "      <td>1.000000</td>\n",
       "    </tr>\n",
       "    <tr>\n",
       "      <th>2332</th>\n",
       "      <td>ORF8</td>\n",
       "      <td>ATGAAATTTCTTGTTTTCTTAGGAATCATCACAACTGTAGCTGCAT...</td>\n",
       "      <td>rf02_ORF18</td>\n",
       "      <td>1.000000</td>\n",
       "    </tr>\n",
       "    <tr>\n",
       "      <th>568</th>\n",
       "      <td>S</td>\n",
       "      <td>ATGTTTGTTTTTCTTGTTTTATTGCCACTAGTCTCTAGTCAGTGTG...</td>\n",
       "      <td>rf01_ORF5.1</td>\n",
       "      <td>1.000000</td>\n",
       "    </tr>\n",
       "  </tbody>\n",
       "</table>\n",
       "</div>"
      ],
      "text/plain": [
       "       Locus                                       overlap__seq    orf__name  \\\n",
       "1151       E  ATGTACTCATTCGTTTCGGAAGAGACAGGTACGTTAATAGTTAATA...    rf00_ORF4   \n",
       "1368       M  ATGGCAGATTCCAACGGTACTATTACCGTTGAAGAGCTTAAAAAGC...   rf02_ORF16   \n",
       "2536       N  ATGTCTGATAATGGACCCCAAAATCAGCGAAATGCACCCCGCATTA...    rf01_ORF8   \n",
       "2833   ORF10                                           TAACTTTA    rf01_ORF7   \n",
       "239   ORF1ab  ATGGAGAGCCTTGTCCCTGGTTTCAACGAGAAAACACACGTCCAAC...    rf01_ORF1   \n",
       "882    ORF3a  ATGGATTTGTTTATGAGAATCTTCACAATTGGAACTGTAACTTTGA...    rf00_ORF3   \n",
       "1636    ORF6  ATGTTTCATCTCGTTGACTTTCAGGTTACTATAGCAGAGATATTAC...    rf00_ORF5   \n",
       "1855   ORF7a  ATGAAAATTATTCTTTTCTTGGCACTGATAACACTCGCTACTTGTG...    rf00_ORF6   \n",
       "2139   ORF7b  ATGATTGAACTTTCATTAATTGACTTCTATTTGTGCTTTTTAGCCT...   rf02_ORF17   \n",
       "2332    ORF8  ATGAAATTTCTTGTTTTCTTAGGAATCATCACAACTGTAGCTGCAT...   rf02_ORF18   \n",
       "568        S  ATGTTTGTTTTTCTTGTTTTATTGCCACTAGTCTCTAGTCAGTGTG...  rf01_ORF5.1   \n",
       "\n",
       "      overlap__perc  \n",
       "1151       1.000000  \n",
       "1368       1.000000  \n",
       "2536       1.000000  \n",
       "2833       0.068376  \n",
       "239        1.000000  \n",
       "882        1.000000  \n",
       "1636       1.000000  \n",
       "1855       1.000000  \n",
       "2139       1.000000  \n",
       "2332       1.000000  \n",
       "568        1.000000  "
      ]
     },
     "execution_count": 531,
     "metadata": {},
     "output_type": "execute_result"
    }
   ],
   "source": [
    "pdf_temp.sort_values([\"Locus\", \"overlap__perc\"], ascending=[True, False]).groupby(\"Locus\").head(1)[[\"Locus\",\"overlap__seq\",\"orf__name\",\"overlap__perc\"]]"
   ]
  },
  {
   "cell_type": "markdown",
   "metadata": {},
   "source": [
    "## 10. Output\n",
    "For this exercise, you should submit a file name a python script named **run.py**. Note that all\n",
    "submissions in different format will not be considered! The file should be run as:\n",
    "```\n",
    "Python run.py sequence.fasta\n",
    "```\n",
    "Points 1 to 6 and 9, should be written to output, with the one item per line. </br>\n",
    "Points 7 and 8 should save the results in files with the names as indicated above."
   ]
  },
  {
   "cell_type": "code",
   "execution_count": 28,
   "metadata": {},
   "outputs": [],
   "source": [
    "def main(sequence):\n",
    "    '''\n",
    "    =====================================//=====================================\n",
    "    STEP 00 - Get statistics\n",
    "    =====================================//=====================================\n",
    "    In this step, we are applying all the filters stipulated by the proposed \n",
    "    exercise, namely:\n",
    "    ------------------------------------//--------------------------------------\n",
    "    '''\n",
    "    # 1) Length of the sequence.\n",
    "    print(f\"\\n -> Sequence len: {len(sequence)}\")\n",
    "\n",
    "    # 2) Frequency in %:\n",
    "    print(f\"\\n -> Frequence:\")\n",
    "    freq = bsf.frequency(sequence, 1, 1)\n",
    "    total = sum(list(freq.values()))\n",
    "    for i, j in freq.items():\n",
    "        print(f\"    {i}: {str(round(j/total*100, 2))}%\")\n",
    "\n",
    "    # 3) GC content:\n",
    "    print(f\"\\n -> GC content: {round(bsf.gc_content(sequence)*100, 2)}%\")\n",
    "\n",
    "    # 4,5) Number of start/end codon:\n",
    "    print(\"\\n -> Number of start/end codons:\")\n",
    "    for i in range(0,3):\n",
    "        l_start = len(bsf.start_codon_position(sequence, i))\n",
    "        l_end = len(bsf.start_codon_position(bsf.reverse_complement(sequence), i))\n",
    "        print(f\"    * In frame {i}: \\n      - Start: {l_start} | Stop: {l_end}\")\n",
    "\n",
    "    # 6) Most and less freq. codon:\n",
    "    dict_freq_codons = bsf.frequency(sequence, 3, 1)\n",
    "    lt = list(dict_freq_codons.values())\n",
    "    lt_max = max(lt)\n",
    "    lt_min = min(lt)\n",
    "\n",
    "    print(\"\\n -> Most and less freq. codon:\")\n",
    "    for i, j in  dict_freq_codons.items():\n",
    "        if j == lt_max or j == lt_min:\n",
    "            print(f\"    {i}: {j}\")\n",
    "    \n",
    "    ''' \n",
    "    =====================================//=====================================\n",
    "    STEP 01 - Creating main dataset\n",
    "    =====================================//=====================================\n",
    "    In this step, we are creating a dataframe that consolidates all the information \n",
    "    regarding the ORFs and their respective positions, for each of the possible DNA \n",
    "    sequences (3 direct frames and 3 reverse frames).\n",
    "    ------------------------------------//--------------------------------------\n",
    "    '''\n",
    "    #  Getting 6 sequences, one for each direct and reverse reading frame:\n",
    "    lt_reading_frames = bsf.reading_frames(sequence)\n",
    "    # Putting those sequences into a Pandas DataFrame with \"reading_frame\" as index:\n",
    "    pdf = pd.DataFrame(lt_reading_frames, columns=[\"seq__amino\"])\n",
    "    pdf.index.names = [\"reading_frame\"]\n",
    "    # Getting all ORFs associated with those 6 sequences with \"all_proteins_rf\" function;\n",
    "    # Creating two new columns with the outputs of \"all_proteins_rf\" (orfs and positions);\n",
    "    # Getting only the ORFs that have the longest length when ORF overlap occurs (max_len):\n",
    "    pdf[\"seq__orf\"], pdf[\"orf__coord\"] = zip(*pdf.apply(lambda x: bsf.all_proteins_rf(x[\"seq__amino\"], True, max_len=False), axis=1))\n",
    "    # Exploding the proteins and positions calculated above into rows:\n",
    "    pdf_exp = pdf.explode([\"seq__orf\", \"orf__coord\"])\n",
    "    pdf_exp[\"orf__coord_start\"], pdf_exp[\"orf__coord_end\"] = zip(*pdf_exp[\"orf__coord\"])\n",
    "    # Creating a column with the length of each ORF:\n",
    "    pdf_exp[\"seq__orf_len\"] = pdf_exp[\"seq__orf\"].str.len()\n",
    "    # Creating two new columns for dna coordinates calculated from orf/aminoacid coordinates:\n",
    "    for n in [0,1,2]:\n",
    "        pdf_exp.loc[n, \"dna__coord_start\"] = pdf_exp.loc[n, \"orf__coord_start\"]*3 + n\n",
    "        pdf_exp.loc[n, \"dna__coord_end\"] = pdf_exp.loc[n, \"orf__coord_end\"]*3 + 3 + n\n",
    "    #droping reading frames of the reverse sequence\n",
    "    pdf_exp = pdf_exp.dropna()\n",
    "    # Getting the DNA sub-sequences associated with start and end of each ORF:\n",
    "    pdf_exp[\"seq__dna\"] = pdf_exp.apply(lambda x: sequence[int(x[\"dna__coord_start\"]):int(x[\"dna__coord_end\"])], axis=1)\n",
    "\n",
    "    '''\n",
    "    =====================================//=====================================\n",
    "    STEP 02 - Applying filters\n",
    "    =====================================//=====================================\n",
    "    In this step, we are applying all the filters stipulated by the proposed \n",
    "    exercise, namely:\n",
    "    (1) sequences must contain >= 40 amino acids;\n",
    "    (2) If an ORF is contained within another, select only the largest of them;\n",
    "    (3) order the data by ORF length.\n",
    "    ------------------------------------//--------------------------------------\n",
    "    '''\n",
    "    # Creating a new dataframe \"prf_exp_temp\" to apply filters and other particular manipulations:\n",
    "    pdf_exp_temp = pdf_exp.copy()\n",
    "    # Filtering only ORFs with at least 40 aminoacis in its sequence:\n",
    "    pdf_exp_temp = pdf_exp_temp[pdf_exp_temp[\"seq__orf\"].str.len() >= 40]\n",
    "    # Ordering dataframe by ORF coordinates to apply the function that will create \"names\"/\"labes\" for those ORFs:\n",
    "    names_by_frame = True\n",
    "    if names_by_frame:\n",
    "        pdf_exp_temp = pdf_exp_temp.reset_index().sort_values([\"reading_frame\",\"orf__coord_start\",\"orf__coord_end\"], ascending=[True,True,False]).set_index(\"reading_frame\")\n",
    "        lt_orf_names = pdf_exp_temp.groupby(\"reading_frame\").apply(lambda x: bt.get_orf_names(x[[\"dna__coord_start\", \"dna__coord_end\"]].values))\n",
    "        lt_orf_names = [[f\"rf0{j}_\" + i for i in lt_orf_names[j]] for j in range(0, len(lt_orf_names))]\n",
    "        pdf_exp_temp[\"orf__name\"] = sum(lt_orf_names, [])\n",
    "    else:\n",
    "        pdf_exp_temp = pdf_exp_temp.sort_values(\"orf__coord\")\n",
    "        pdf_exp_temp[\"orf__name\"] = bt.get_orf_names(pdf_exp_temp[[\"dna__coord_start\", \"dna__coord_end\"]].values)\n",
    "    # Sorting dataframe by orf length:\n",
    "    pdf_exp_temp = pdf_exp_temp.sort_values(\"seq__orf_len\", ascending=False)\n",
    "    # Just sorting columns alphabeticaly:\n",
    "    pdf_exp_temp = pdf_exp_temp[sorted(pdf_exp_temp.columns)]\n",
    "    \n",
    "    print(\"\\n -> creating all_potential_proteins.txt file...\")\n",
    "    (\n",
    "        pdf_exp_temp\n",
    "            .sort_values(\"seq__orf_len\", ascending=False)[\"seq__dna\"]\n",
    "            .to_csv(\"../data/all_potential_proteins.txt\", header=False, index=False)\n",
    "    )\n",
    "    print(\"    * file created!\")\n",
    "\n",
    "    print(\"\\n -> creating orf_coordinates.txt file...\")\n",
    "    import re\n",
    "    pattern = \"rf0\\d{1}_ORF\\d+\"\n",
    "    l = pd.Series([re.findall(pattern, orf)[0] for orf in pdf_exp_temp[\"orf__name\"] if re.findall(pattern, orf)]).unique()\n",
    "    pdf_exp_temp_ex08 = pdf_exp_temp[pdf_exp_temp[\"orf__name\"].isin(l)].sort_values(\"orf__coord\")\n",
    "    pdf_exp_temp_ex08 = pdf_exp_temp_ex08.sort_values(\"seq__orf_len\", ascending=False)\n",
    "    (\n",
    "        pdf_exp_temp_ex08[[\"dna__coord_start\", \"dna__coord_end\", \"seq__dna\"]]\n",
    "            .to_csv(\n",
    "                \"../data/orf_coordinates.txt\", \n",
    "                float_format=\"%.0f\", \n",
    "                sep=\",\", \n",
    "                index=False, \n",
    "                header=False\n",
    "            )\n",
    "    )\n",
    "    print(\"    * file created!\")\n",
    "\n",
    "    '''\n",
    "    =====================================//=====================================\n",
    "    STEP 03 - Applying filters\n",
    "    =====================================//=====================================\n",
    "    In this step, we are applying all the filters stipulated by the proposed \n",
    "    exercise, namely:\n",
    "    (1) sequences must contain >= 40 amino acids;\n",
    "    (2) If an ORF is contained within another, select only the largest of them;\n",
    "    (3) order the data by ORF length.\n",
    "    ------------------------------------//--------------------------------------\n",
    "    '''\n",
    "    pdf_proteins[\"seq__dna\"] = pdf_proteins.apply(lambda x: sequence[int(x[\"Start\"])-1:int(x[\"Stop\"])], axis=1)\n",
    "    pdf_proteins[\"dna__coord_start\"] = pdf_proteins[\"Start\"] - 1\n",
    "    pdf_proteins[\"dna__coord_end\"] = pdf_proteins[\"Stop\"]\n",
    "    pdf_temp = (\n",
    "        pdf_proteins[\n",
    "            [\"Locus\", \"dna__coord_start\", \"dna__coord_end\", \"seq__dna\"]\n",
    "            ]\n",
    "        .merge(\n",
    "            pdf_exp_temp[\n",
    "                [\"seq__dna\", \"dna__coord_start\", \"dna__coord_end\", \"orf__name\"]\n",
    "                ], \n",
    "            how=\"cross\"\n",
    "            )\n",
    "        )\n",
    "\n",
    "    import difflib\n",
    "\n",
    "    def get_overlap(s1, s2):\n",
    "        s = difflib.SequenceMatcher(None, s1, s2)\n",
    "        pos_a, pos_b, size = s.find_longest_match(0, len(s1), 0, len(s2)) \n",
    "        return s1[pos_a:pos_a+size]\n",
    "\n",
    "    print(\"\\n -> Getting overlap between ORFs...\")\n",
    "    pdf_temp[\"overlap__seq\"] = pdf_temp.apply(lambda x: get_overlap(str(x[\"seq__dna_x\"]), str(x[\"seq__dna_y\"])), axis=1)\n",
    "    pdf_temp[\"overlap__perc\"] = pdf_temp[\"overlap__seq\"].str.len()/pdf_temp[\"seq__dna_x\"].str.len()\n",
    "    print(\"    * Overlaps calculated!\")\n",
    "    for i in pdf_temp.sort_values([\"Locus\", \"overlap__perc\"], ascending=[True, False]).groupby(\"Locus\").head(1)[[\"Locus\",\"overlap__perc\"]].values:\n",
    "        print(f\"      - Locus: {i[0]} | Overlap: {i[1]}\")\n"
   ]
  },
  {
   "cell_type": "code",
   "execution_count": 18,
   "metadata": {},
   "outputs": [],
   "source": [
    "sequence = dict_sequence[\"NC_045512.2\"]"
   ]
  },
  {
   "cell_type": "code",
   "execution_count": 29,
   "metadata": {},
   "outputs": [
    {
     "name": "stdout",
     "output_type": "stream",
     "text": [
      "\n",
      " -> Sequence len: 29903\n",
      "\n",
      " -> Frequence:\n",
      "    A: 29.94%\n",
      "    T: 32.08%\n",
      "    G: 19.61%\n",
      "    C: 18.37%\n",
      "\n",
      " -> GC content: 37.97%\n",
      "\n",
      " -> Number of start/end codons:\n",
      "    * In frame 0: \n",
      "      - Start: 117 | Stop: 176\n",
      "    * In frame 1: \n",
      "      - Start: 311 | Stop: 136\n",
      "    * In frame 2: \n",
      "      - Start: 297 | Stop: 172\n",
      "\n",
      " -> Most and less freq. codon:\n",
      "    TTT: 1004\n",
      "    CCG: 74\n",
      "\n",
      " -> creating all_potential_proteins.txt file...\n",
      "    * file created!\n",
      "\n",
      " -> creating orf_coordinates.txt file...\n",
      "    * file created!\n",
      "\n",
      " -> Getting overlap between ORFs...\n",
      "    * Overlaps calculated!\n",
      "      - Locus: E | Overlap: 1.0\n",
      "      - Locus: M | Overlap: 1.0\n",
      "      - Locus: N | Overlap: 1.0\n",
      "      - Locus: ORF10 | Overlap: 0.06837606837606838\n",
      "      - Locus: ORF1ab | Overlap: 1.0\n",
      "      - Locus: ORF3a | Overlap: 1.0\n",
      "      - Locus: ORF6 | Overlap: 1.0\n",
      "      - Locus: ORF7a | Overlap: 1.0\n",
      "      - Locus: ORF7b | Overlap: 1.0\n",
      "      - Locus: ORF8 | Overlap: 1.0\n",
      "      - Locus: S | Overlap: 1.0\n"
     ]
    }
   ],
   "source": [
    "main(sequence)"
   ]
  },
  {
   "cell_type": "code",
   "execution_count": null,
   "metadata": {},
   "outputs": [],
   "source": []
  }
 ],
 "metadata": {
  "interpreter": {
   "hash": "e331385131b321d922cdbda5e96c4017d06fbf492359824eb6bde6201012f386"
  },
  "kernelspec": {
   "display_name": "Python 3.7.11 ('base')",
   "language": "python",
   "name": "python3"
  },
  "language_info": {
   "codemirror_mode": {
    "name": "ipython",
    "version": 3
   },
   "file_extension": ".py",
   "mimetype": "text/x-python",
   "name": "python",
   "nbconvert_exporter": "python",
   "pygments_lexer": "ipython3",
   "version": "3.7.11"
  },
  "orig_nbformat": 4
 },
 "nbformat": 4,
 "nbformat_minor": 2
}
